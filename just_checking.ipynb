{
 "metadata": {
  "language_info": {
   "codemirror_mode": {
    "name": "ipython",
    "version": 3
   },
   "file_extension": ".py",
   "mimetype": "text/x-python",
   "name": "python",
   "nbconvert_exporter": "python",
   "pygments_lexer": "ipython3",
   "version": "3.6.10"
  },
  "orig_nbformat": 2,
  "kernelspec": {
   "name": "python3610jvsc74a57bd038f934b83c7878c7af716cf61b4a3e24bc3639c5744e081035f4202c89c484f1",
   "display_name": "Python 3.6.10 64-bit ('PythonData': conda)"
  }
 },
 "nbformat": 4,
 "nbformat_minor": 2,
 "cells": [
  {
   "cell_type": "code",
   "execution_count": 8,
   "metadata": {},
   "outputs": [
    {
     "output_type": "execute_result",
     "data": {
      "text/plain": [
       "  country_region_code country_region sub_region_1 sub_region_2  metro_area  \\\n",
       "0                  US  United States          NaN          NaN         NaN   \n",
       "1                  US  United States          NaN          NaN         NaN   \n",
       "2                  US  United States          NaN          NaN         NaN   \n",
       "3                  US  United States          NaN          NaN         NaN   \n",
       "4                  US  United States          NaN          NaN         NaN   \n",
       "\n",
       "  iso_3166_2_code  census_fips_code                     place_id        date  \\\n",
       "0             NaN               NaN  ChIJCzYy5IS16lQRQrfeQ5K5Oxw  2021-01-01   \n",
       "1             NaN               NaN  ChIJCzYy5IS16lQRQrfeQ5K5Oxw  2021-01-02   \n",
       "2             NaN               NaN  ChIJCzYy5IS16lQRQrfeQ5K5Oxw  2021-01-03   \n",
       "3             NaN               NaN  ChIJCzYy5IS16lQRQrfeQ5K5Oxw  2021-01-04   \n",
       "4             NaN               NaN  ChIJCzYy5IS16lQRQrfeQ5K5Oxw  2021-01-05   \n",
       "\n",
       "   retail_and_recreation_percent_change_from_baseline  \\\n",
       "0                                              -47.0    \n",
       "1                                              -26.0    \n",
       "2                                              -27.0    \n",
       "3                                              -19.0    \n",
       "4                                              -20.0    \n",
       "\n",
       "   grocery_and_pharmacy_percent_change_from_baseline  \\\n",
       "0                                              -37.0   \n",
       "1                                              -13.0   \n",
       "2                                              -16.0   \n",
       "3                                               -8.0   \n",
       "4                                               -6.0   \n",
       "\n",
       "   parks_percent_change_from_baseline  \\\n",
       "0                               -21.0   \n",
       "1                               -14.0   \n",
       "2                               -24.0   \n",
       "3                               -23.0   \n",
       "4                               -20.0   \n",
       "\n",
       "   transit_stations_percent_change_from_baseline  \\\n",
       "0                                          -62.0   \n",
       "1                                          -33.0   \n",
       "2                                          -33.0   \n",
       "3                                          -39.0   \n",
       "4                                          -39.0   \n",
       "\n",
       "   workplaces_percent_change_from_baseline  \\\n",
       "0                                    -75.0   \n",
       "1                                    -21.0   \n",
       "2                                    -17.0   \n",
       "3                                    -34.0   \n",
       "4                                    -34.0   \n",
       "\n",
       "   residential_percent_change_from_baseline  \n",
       "0                                      27.0  \n",
       "1                                       9.0  \n",
       "2                                       7.0  \n",
       "3                                      12.0  \n",
       "4                                      12.0  "
      ],
      "text/html": "<div>\n<style scoped>\n    .dataframe tbody tr th:only-of-type {\n        vertical-align: middle;\n    }\n\n    .dataframe tbody tr th {\n        vertical-align: top;\n    }\n\n    .dataframe thead th {\n        text-align: right;\n    }\n</style>\n<table border=\"1\" class=\"dataframe\">\n  <thead>\n    <tr style=\"text-align: right;\">\n      <th></th>\n      <th>country_region_code</th>\n      <th>country_region</th>\n      <th>sub_region_1</th>\n      <th>sub_region_2</th>\n      <th>metro_area</th>\n      <th>iso_3166_2_code</th>\n      <th>census_fips_code</th>\n      <th>place_id</th>\n      <th>date</th>\n      <th>retail_and_recreation_percent_change_from_baseline</th>\n      <th>grocery_and_pharmacy_percent_change_from_baseline</th>\n      <th>parks_percent_change_from_baseline</th>\n      <th>transit_stations_percent_change_from_baseline</th>\n      <th>workplaces_percent_change_from_baseline</th>\n      <th>residential_percent_change_from_baseline</th>\n    </tr>\n  </thead>\n  <tbody>\n    <tr>\n      <th>0</th>\n      <td>US</td>\n      <td>United States</td>\n      <td>NaN</td>\n      <td>NaN</td>\n      <td>NaN</td>\n      <td>NaN</td>\n      <td>NaN</td>\n      <td>ChIJCzYy5IS16lQRQrfeQ5K5Oxw</td>\n      <td>2021-01-01</td>\n      <td>-47.0</td>\n      <td>-37.0</td>\n      <td>-21.0</td>\n      <td>-62.0</td>\n      <td>-75.0</td>\n      <td>27.0</td>\n    </tr>\n    <tr>\n      <th>1</th>\n      <td>US</td>\n      <td>United States</td>\n      <td>NaN</td>\n      <td>NaN</td>\n      <td>NaN</td>\n      <td>NaN</td>\n      <td>NaN</td>\n      <td>ChIJCzYy5IS16lQRQrfeQ5K5Oxw</td>\n      <td>2021-01-02</td>\n      <td>-26.0</td>\n      <td>-13.0</td>\n      <td>-14.0</td>\n      <td>-33.0</td>\n      <td>-21.0</td>\n      <td>9.0</td>\n    </tr>\n    <tr>\n      <th>2</th>\n      <td>US</td>\n      <td>United States</td>\n      <td>NaN</td>\n      <td>NaN</td>\n      <td>NaN</td>\n      <td>NaN</td>\n      <td>NaN</td>\n      <td>ChIJCzYy5IS16lQRQrfeQ5K5Oxw</td>\n      <td>2021-01-03</td>\n      <td>-27.0</td>\n      <td>-16.0</td>\n      <td>-24.0</td>\n      <td>-33.0</td>\n      <td>-17.0</td>\n      <td>7.0</td>\n    </tr>\n    <tr>\n      <th>3</th>\n      <td>US</td>\n      <td>United States</td>\n      <td>NaN</td>\n      <td>NaN</td>\n      <td>NaN</td>\n      <td>NaN</td>\n      <td>NaN</td>\n      <td>ChIJCzYy5IS16lQRQrfeQ5K5Oxw</td>\n      <td>2021-01-04</td>\n      <td>-19.0</td>\n      <td>-8.0</td>\n      <td>-23.0</td>\n      <td>-39.0</td>\n      <td>-34.0</td>\n      <td>12.0</td>\n    </tr>\n    <tr>\n      <th>4</th>\n      <td>US</td>\n      <td>United States</td>\n      <td>NaN</td>\n      <td>NaN</td>\n      <td>NaN</td>\n      <td>NaN</td>\n      <td>NaN</td>\n      <td>ChIJCzYy5IS16lQRQrfeQ5K5Oxw</td>\n      <td>2021-01-05</td>\n      <td>-20.0</td>\n      <td>-6.0</td>\n      <td>-20.0</td>\n      <td>-39.0</td>\n      <td>-34.0</td>\n      <td>12.0</td>\n    </tr>\n  </tbody>\n</table>\n</div>"
     },
     "metadata": {},
     "execution_count": 8
    }
   ],
   "source": [
    "import pandas as pd \n",
    "import matplotlib.pyplot as plt\n",
    "\n",
    "df = pd.read_csv('2021_US_Region_Mobility_Report.csv')\n",
    "df.head()"
   ]
  },
  {
   "cell_type": "code",
   "execution_count": 13,
   "metadata": {},
   "outputs": [
    {
     "output_type": "error",
     "ename": "TypeError",
     "evalue": "bar() missing 1 required positional argument: 'height'",
     "traceback": [
      "\u001b[1;31m---------------------------------------------------------------------------\u001b[0m",
      "\u001b[1;31mTypeError\u001b[0m                                 Traceback (most recent call last)",
      "\u001b[1;32m<ipython-input-13-a25bfc63b484>\u001b[0m in \u001b[0;36m<module>\u001b[1;34m\u001b[0m\n\u001b[1;32m----> 1\u001b[1;33m \u001b[0mplt\u001b[0m\u001b[1;33m.\u001b[0m\u001b[0mbar\u001b[0m\u001b[1;33m(\u001b[0m \u001b[0mdf\u001b[0m\u001b[1;33m[\u001b[0m\u001b[1;34m'grocery_and_pharmacy_percent_change_from_baseline'\u001b[0m\u001b[1;33m]\u001b[0m\u001b[1;33m)\u001b[0m\u001b[1;33m\u001b[0m\u001b[1;33m\u001b[0m\u001b[0m\n\u001b[0m\u001b[0;32m      2\u001b[0m \u001b[0mplt\u001b[0m\u001b[1;33m.\u001b[0m\u001b[0mshow\u001b[0m\u001b[1;33m(\u001b[0m\u001b[1;33m)\u001b[0m\u001b[1;33m\u001b[0m\u001b[1;33m\u001b[0m\u001b[0m\n",
      "\u001b[1;31mTypeError\u001b[0m: bar() missing 1 required positional argument: 'height'"
     ]
    }
   ],
   "source": [
    "plt.bar(df[''] ,df['grocery_and_pharmacy_percent_change_from_baseline'])\n",
    "plt.show()"
   ]
  },
  {
   "cell_type": "code",
   "execution_count": null,
   "metadata": {},
   "outputs": [],
   "source": []
  }
 ]
}